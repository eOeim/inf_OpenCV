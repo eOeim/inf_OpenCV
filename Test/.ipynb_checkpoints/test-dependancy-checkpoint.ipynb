{
 "cells": [
  {
   "cell_type": "code",
   "execution_count": 5,
   "metadata": {},
   "outputs": [
    {
     "name": "stdout",
     "output_type": "stream",
     "text": [
      "python: 3.6.4 |Anaconda, Inc.| (default, Jan 16 2018, 10:22:32) [MSC v.1900 64 bit (AMD64)]\n",
      "opencv: 3.3.1\n",
      "pytesseract: pytesseract version 0.1.6\n"
     ]
    }
   ],
   "source": [
    "# OpenCV 및 OCR모듈 설치 유무 확인\n",
    "\n",
    "import sys\n",
    "import cv2\n",
    "import pytesseract\n",
    "from PIL import Image\n",
    "\n",
    "# 윈도우에서 주석해제 (tesseract_path: C:\\Program Files (x86)\\Tesseract-OCR)\n",
    "tesseract_path = 'C:/Program Files (x86)/Tesseract-OCR'\n",
    "pytesseract.pytesseract.tesseract_cmd = tesseract_path + '/tesseract'\n",
    "\n",
    "print(\"python:\", sys.version)\n",
    "print(\"opencv:\", cv2.__version__)\n",
    "print(\"pytesseract:\", pytesseract.image_to_string(Image.open('images/test.png')))"
   ]
  },
  {
   "cell_type": "code",
   "execution_count": null,
   "metadata": {},
   "outputs": [],
   "source": []
  }
 ],
 "metadata": {
  "anaconda-cloud": {},
  "kernelspec": {
   "display_name": "Python 3",
   "language": "python",
   "name": "python3"
  },
  "language_info": {
   "codemirror_mode": {
    "name": "ipython",
    "version": 3
   },
   "file_extension": ".py",
   "mimetype": "text/x-python",
   "name": "python",
   "nbconvert_exporter": "python",
   "pygments_lexer": "ipython3",
   "version": "3.6.4"
  }
 },
 "nbformat": 4,
 "nbformat_minor": 1
}
